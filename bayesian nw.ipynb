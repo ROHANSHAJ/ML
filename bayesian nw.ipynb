{
 "cells": [
  {
   "cell_type": "code",
   "execution_count": 1,
   "id": "b2d5cebd-a5ae-442d-8e60-9a8f34a0bf1c",
   "metadata": {},
   "outputs": [],
   "source": [
    "prob_cloudy = 0.5\n",
    "prob_sprinkler_given_cloudy = {'T': 0.1, 'F': 0.9}\n",
    "prob_rain_given_cloudy = {'T': 0.8, 'F': 0.2}\n",
    "prob_wet_grass_given_sprinkler_rain = {\n",
    "    ('T', 'T'): 0.99,\n",
    "    ('T', 'F'): 0.9,\n",
    "    ('F', 'T'): 0.9,\n",
    "    ('F', 'F'): 0.0\n",
    "}\n"
   ]
  },
  {
   "cell_type": "code",
   "execution_count": 2,
   "id": "87dc7f28-1c79-40f2-85e9-4636558e71d3",
   "metadata": {},
   "outputs": [],
   "source": [
    "def joint_probability(cloudy, sprinkler, rain, wet_grass):\n",
    "    return prob_cloudy * prob_sprinkler_given_cloudy[sprinkler] * prob_rain_given_cloudy[rain] * prob_wet_grass_given_sprinkler_rain[(sprinkler, rain)]\n"
   ]
  },
  {
   "cell_type": "code",
   "execution_count": 3,
   "id": "84d81f11-edbc-4d8c-8bad-29861aacbead",
   "metadata": {},
   "outputs": [],
   "source": [
    "def marginal_probability(variable, value):\n",
    "    if variable == 'cloudy':\n",
    "        return prob_cloudy\n",
    "    elif variable == 'sprinkler':\n",
    "        return prob_sprinkler_given_cloudy[value]\n",
    "    elif variable == 'rain':\n",
    "        return prob_rain_given_cloudy[value]\n",
    "    elif variable == 'wet_grass':\n",
    "        total_prob = 0\n",
    "        for (sprinkler, rain) in prob_wet_grass_given_sprinkler_rain.keys():\n",
    "            total_prob += joint_probability('T', sprinkler, rain, value) + joint_probability('F', sprinkler, rain, value)\n",
    "        return total_prob\n"
   ]
  },
  {
   "cell_type": "code",
   "execution_count": 4,
   "id": "404cb149-6a81-41e2-abc6-acf2929f43b2",
   "metadata": {},
   "outputs": [],
   "source": [
    "def conditional_probability(query_variable, query_value, given_variable, given_value):\n",
    "    numerator = joint_probability('T', query_value, query_value, given_value)\n",
    "    denominator = marginal_probability(given_variable, given_value)\n",
    "    return numerator / denominator\n"
   ]
  },
  {
   "cell_type": "code",
   "execution_count": 5,
   "id": "0030b17d-3d1f-4baf-a555-cc9cf7a5d4ae",
   "metadata": {},
   "outputs": [
    {
     "name": "stdout",
     "output_type": "stream",
     "text": [
      "Conditional probability of wet grass given cloudy and raining: 0.07920000000000002\n"
     ]
    }
   ],
   "source": [
    "conditional_prob = conditional_probability('wet_grass', 'T', 'cloudy', 'T')\n",
    "print(f'Conditional probability of wet grass given cloudy and raining: {conditional_prob}')\n"
   ]
  }
 ],
 "metadata": {
  "kernelspec": {
   "display_name": "Python 3 (ipykernel)",
   "language": "python",
   "name": "python3"
  },
  "language_info": {
   "codemirror_mode": {
    "name": "ipython",
    "version": 3
   },
   "file_extension": ".py",
   "mimetype": "text/x-python",
   "name": "python",
   "nbconvert_exporter": "python",
   "pygments_lexer": "ipython3",
   "version": "3.12.4"
  }
 },
 "nbformat": 4,
 "nbformat_minor": 5
}
