{
 "cells": [
  {
   "cell_type": "code",
   "execution_count": 4,
   "id": "0b7b4a61",
   "metadata": {},
   "outputs": [],
   "source": [
    "import matplotlib.pyplot as plt\n",
    "import numpy as np\n",
    "from sklearn import datasets\n",
    "from sklearn.ensemble import VotingClassifier\n",
    "from sklearn.tree import DecisionTreeClassifier\n",
    "from sklearn.neighbors import KNeighborsClassifier\n",
    "from sklearn.svm import SVC\n",
    "from sklearn.inspection import DecisionBoundaryDisplay"
   ]
  },
  {
   "cell_type": "code",
   "execution_count": 6,
   "id": "affcbf65",
   "metadata": {},
   "outputs": [],
   "source": [
    "iris=datasets.load_iris()\n",
    "X=iris.data[:,[0,2]]\n",
    "y=iris.target"
   ]
  },
  {
   "cell_type": "code",
   "execution_count": 7,
   "id": "57f41554",
   "metadata": {},
   "outputs": [],
   "source": [
    "clf1=DecisionTreeClassifier(max_depth=4)\n",
    "clf2=KNeighborsClassifier(n_neighbors=7)\n",
    "clf3=SVC(gamma=0.1,kernel=\"rbf\",probability=True)\n",
    "eclf=VotingClassifier(estimators=[(\"dt\",clf1),(\"knn\",clf2),(\"svc\",clf3)],voting=\"soft\",weights=[2,1,2])"
   ]
  },
  {
   "cell_type": "code",
   "execution_count": null,
   "id": "7a014f78",
   "metadata": {},
   "outputs": [],
   "source": []
  }
 ],
 "metadata": {
  "kernelspec": {
   "display_name": "Python 3 (ipykernel)",
   "language": "python",
   "name": "python3"
  },
  "language_info": {
   "codemirror_mode": {
    "name": "ipython",
    "version": 3
   },
   "file_extension": ".py",
   "mimetype": "text/x-python",
   "name": "python",
   "nbconvert_exporter": "python",
   "pygments_lexer": "ipython3",
   "version": "3.11.5"
  }
 },
 "nbformat": 4,
 "nbformat_minor": 5
}
